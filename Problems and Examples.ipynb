{
 "cells": [
  {
   "cell_type": "code",
   "execution_count": 39,
   "metadata": {
    "collapsed": false
   },
   "outputs": [
    {
     "name": "stdout",
     "output_type": "stream",
     "text": [
      "Parenthesis Match\n"
     ]
    }
   ],
   "source": [
    "# parenthesis matching\n",
    "\n",
    "text = '{{}[]()}'\n",
    "openers = ['[','(', '{']\n",
    "closers = [']', ')', '}']\n",
    "match_set = set([('(', ')'), ('[', ']'), ('{', '}')])\n",
    "stack = []\n",
    "for char in text:\n",
    "    if char in openers:\n",
    "        stack.append(char)\n",
    "    elif char in closers:\n",
    "        if len(stack) == 0:\n",
    "            print 'no open but a close detected: {}'.format(char)\n",
    "            #return False\n",
    "        last_opener = stack.pop()\n",
    "        if (last_opener, char) not in match_set:\n",
    "            print 'close {} does not match open {}'.format(char, last_opener)\n",
    "            #return False\n",
    "    else:\n",
    "        pass\n",
    "    \n",
    "if len(stack) == 0:\n",
    "    print 'Parenthesis Match'\n",
    "else:\n",
    "    print 'Not all parenthesis match'\n",
    "    print stack"
   ]
  },
  {
   "cell_type": "code",
   "execution_count": 89,
   "metadata": {
    "collapsed": false
   },
   "outputs": [],
   "source": [
    "# parenthesis matching as a function\n",
    "def parenthesis_match(text):\n",
    "    # track line numbers\n",
    "    line_num = 0\n",
    "    \n",
    "    # stack - LIFO stack for storing openers - if a close is found it must match the last opener \n",
    "    stack = []\n",
    "    \n",
    "    # lists of openers & closers\n",
    "    openers = ['[','(', '{', '<']\n",
    "    closers = [']', ')', '}', '>']\n",
    "    match_sets = set([('(', ')'), ('[', ']'), ('{', '}'), ('<', '>')])\n",
    "    \n",
    "    text_lines = text.splitlines()\n",
    "    for line in text_lines:\n",
    "        line_num += 1\n",
    "        for char in line:\n",
    "            if char in openers:\n",
    "                stack.append(char)\n",
    "            elif char in closers:\n",
    "                # check if opener was found before, otherwise fail check\n",
    "                if len(stack) == 0:\n",
    "                    print \"Line: {} - Closer {} found but no preceeding openers\".format(line_num, char)\n",
    "                    return False\n",
    "                else:                \n",
    "                    # openers were found before closer, proceed to check\n",
    "                    # pop last opener from stack\n",
    "                    last_opener = stack.pop()\n",
    "                    #print last_opener, char\n",
    "                    if (last_opener, char) not in match_sets:\n",
    "                        # wrong closer for opener\n",
    "                        print 'Line: {} - First closer: {} does not match last opener: {}'.format(line_num, char, last_opener)\n",
    "                        return False\n",
    "            #else:\n",
    "                # just pass non-parenthesis chars\n",
    "                #pass\n",
    "            \n",
    "            \n",
    "        # finally check balancing i.e. - every opener was closed\n",
    "    if len(stack) == 0:\n",
    "        print 'Parenthesis well balanced'\n",
    "        return True\n",
    "    else:\n",
    "        print 'Parenthesis not well balanced: some openers not closed'\n",
    "        print stack\n",
    "        return False"
   ]
  },
  {
   "cell_type": "code",
   "execution_count": 96,
   "metadata": {
    "collapsed": false
   },
   "outputs": [
    {
     "name": "stdout",
     "output_type": "stream",
     "text": [
      "Parenthesis well balanced\n",
      "True\n"
     ]
    }
   ],
   "source": [
    "a = parenthesis_match('z([{}-()]{a})')\n",
    "print a"
   ]
  },
  {
   "cell_type": "code",
   "execution_count": 57,
   "metadata": {
    "collapsed": false
   },
   "outputs": [
    {
     "data": {
      "text/plain": [
       "['HelloLOL']"
      ]
     },
     "execution_count": 57,
     "metadata": {},
     "output_type": "execute_result"
    }
   ],
   "source": [
    "\"HelloLOL\".splitlines()"
   ]
  },
  {
   "cell_type": "code",
   "execution_count": 9,
   "metadata": {
    "collapsed": true
   },
   "outputs": [],
   "source": [
    "# merge and sort two lists\n",
    "list1 = [3,4,6,10,11,15]\n",
    "list2 = [1,5,8,12,14,19]\n",
    "def merge_lists(list1, list2):\n",
    "    list1.extend(list2)\n",
    "    list1.sort()\n",
    "    return list1"
   ]
  },
  {
   "cell_type": "code",
   "execution_count": 10,
   "metadata": {
    "collapsed": false
   },
   "outputs": [
    {
     "name": "stdout",
     "output_type": "stream",
     "text": [
      "[1, 3, 4, 5, 6, 8, 10, 11, 12, 14, 15, 19]\n"
     ]
    }
   ],
   "source": [
    "print merge_lists(list1, list2)"
   ]
  },
  {
   "cell_type": "code",
   "execution_count": 11,
   "metadata": {
    "collapsed": true
   },
   "outputs": [],
   "source": [
    "# manual implementation of string.upper()\n",
    "def to_upper(text):\n",
    "    upper_string =''\n",
    "    for char in text:\n",
    "        if ord(char) >= 97 and ord(char) <= 122:\n",
    "            upper_string += chr(ord(char)-32)\n",
    "        else:\n",
    "            upper_string += char\n",
    "    return upper_string"
   ]
  },
  {
   "cell_type": "code",
   "execution_count": 14,
   "metadata": {
    "collapsed": false
   },
   "outputs": [
    {
     "data": {
      "text/plain": [
       "'HAAA2131312[][][AELLO'"
      ]
     },
     "execution_count": 14,
     "metadata": {},
     "output_type": "execute_result"
    }
   ],
   "source": [
    "to_upper('hAAA2131312[][][Aello')"
   ]
  },
  {
   "cell_type": "code",
   "execution_count": 60,
   "metadata": {
    "collapsed": false
   },
   "outputs": [
    {
     "data": {
      "text/plain": [
       "0"
      ]
     },
     "execution_count": 60,
     "metadata": {},
     "output_type": "execute_result"
    }
   ],
   "source": [
    "len('')"
   ]
  },
  {
   "cell_type": "code",
   "execution_count": 61,
   "metadata": {
    "collapsed": true
   },
   "outputs": [],
   "source": [
    "def test():\n",
    "    return -1"
   ]
  },
  {
   "cell_type": "code",
   "execution_count": 62,
   "metadata": {
    "collapsed": false
   },
   "outputs": [
    {
     "data": {
      "text/plain": [
       "-1"
      ]
     },
     "execution_count": 62,
     "metadata": {},
     "output_type": "execute_result"
    }
   ],
   "source": [
    "test()"
   ]
  },
  {
   "cell_type": "code",
   "execution_count": 83,
   "metadata": {
    "collapsed": true
   },
   "outputs": [],
   "source": [
    "def func(s, a, b):\n",
    "    #if len(s) == 0:\n",
    "    #    return -1\n",
    "    if a in s and b in s:\n",
    "        print \"both found\"\n",
    "        return min(s.index(a), s.index(b))\n",
    "    elif a in s:\n",
    "        print 'a only'\n",
    "        return s.index(a)\n",
    "    elif b in s:\n",
    "        print 'b only'\n",
    "        return s.index(b)\n",
    "    else:\n",
    "        return -1"
   ]
  },
  {
   "cell_type": "code",
   "execution_count": 88,
   "metadata": {
    "collapsed": false
   },
   "outputs": [
    {
     "name": "stdout",
     "output_type": "stream",
     "text": [
      "both found\n"
     ]
    },
    {
     "data": {
      "text/plain": [
       "4"
      ]
     },
     "execution_count": 88,
     "metadata": {},
     "output_type": "execute_result"
    }
   ],
   "source": [
    "func('tyrone','n', 'e')"
   ]
  },
  {
   "cell_type": "code",
   "execution_count": 68,
   "metadata": {
    "collapsed": false
   },
   "outputs": [
    {
     "name": "stdout",
     "output_type": "stream",
     "text": [
      "yes\n"
     ]
    }
   ],
   "source": [
    "if 'a' in 'happy':\n",
    "    print 'yes'"
   ]
  },
  {
   "cell_type": "code",
   "execution_count": 71,
   "metadata": {
    "collapsed": false
   },
   "outputs": [
    {
     "data": {
      "text/plain": [
       "2"
      ]
     },
     "execution_count": 71,
     "metadata": {},
     "output_type": "execute_result"
    }
   ],
   "source": [
    "min(10,2)"
   ]
  },
  {
   "cell_type": "code",
   "execution_count": 78,
   "metadata": {
    "collapsed": false
   },
   "outputs": [
    {
     "ename": "TypeError",
     "evalue": "'in <string>' requires string as left operand, not bool",
     "output_type": "error",
     "traceback": [
      "\u001b[1;31m---------------------------------------------------------------------------\u001b[0m",
      "\u001b[1;31mTypeError\u001b[0m                                 Traceback (most recent call last)",
      "\u001b[1;32m<ipython-input-78-c67b0132a44c>\u001b[0m in \u001b[0;36m<module>\u001b[1;34m()\u001b[0m\n\u001b[1;32m----> 1\u001b[1;33m \u001b[0ma\u001b[0m \u001b[1;32min\u001b[0m \u001b[1;34m''\u001b[0m\u001b[1;33m\u001b[0m\u001b[0m\n\u001b[0m",
      "\u001b[1;31mTypeError\u001b[0m: 'in <string>' requires string as left operand, not bool"
     ]
    }
   ],
   "source": [
    "a in ''"
   ]
  },
  {
   "cell_type": "code",
   "execution_count": 81,
   "metadata": {
    "collapsed": false
   },
   "outputs": [],
   "source": [
    "if 'a' in '':\n",
    "    print 'yes'"
   ]
  },
  {
   "cell_type": "code",
   "execution_count": 98,
   "metadata": {
    "collapsed": false
   },
   "outputs": [
    {
     "data": {
      "text/plain": [
       "-1"
      ]
     },
     "execution_count": 98,
     "metadata": {},
     "output_type": "execute_result"
    }
   ],
   "source": [
    "'happy'.find('z')"
   ]
  },
  {
   "cell_type": "code",
   "execution_count": 99,
   "metadata": {
    "collapsed": true
   },
   "outputs": [],
   "source": [
    "def func1(s, a, b):\n",
    "    #if len(s) == 0:\n",
    "    #    return -1\n",
    "    return min(s.find(a), s.find(b))\n",
    "    \n",
    "       "
   ]
  },
  {
   "cell_type": "code",
   "execution_count": 102,
   "metadata": {
    "collapsed": false
   },
   "outputs": [
    {
     "data": {
      "text/plain": [
       "-1"
      ]
     },
     "execution_count": 102,
     "metadata": {},
     "output_type": "execute_result"
    }
   ],
   "source": [
    "func1('happy', 'g', 'y')"
   ]
  },
  {
   "cell_type": "code",
   "execution_count": 113,
   "metadata": {
    "collapsed": true
   },
   "outputs": [],
   "source": [
    "def func2(s, a,b):\n",
    "    if len(s) == 0:\n",
    "        return -1\n",
    "    indices = [s.find(a), s.find(b)]\n",
    "    indices = [x for x in indices if x != -1]\n",
    "    \n",
    "    return min(indices)"
   ]
  },
  {
   "cell_type": "code",
   "execution_count": 116,
   "metadata": {
    "collapsed": false
   },
   "outputs": [
    {
     "data": {
      "text/plain": [
       "1"
      ]
     },
     "execution_count": 116,
     "metadata": {},
     "output_type": "execute_result"
    }
   ],
   "source": [
    "func2('tyrone', 'y', 'n')"
   ]
  },
  {
   "cell_type": "code",
   "execution_count": null,
   "metadata": {
    "collapsed": true
   },
   "outputs": [],
   "source": []
  }
 ],
 "metadata": {
  "kernelspec": {
   "display_name": "Python 2",
   "language": "python",
   "name": "python2"
  },
  "language_info": {
   "codemirror_mode": {
    "name": "ipython",
    "version": 2
   },
   "file_extension": ".py",
   "mimetype": "text/x-python",
   "name": "python",
   "nbconvert_exporter": "python",
   "pygments_lexer": "ipython2",
   "version": "2.7.10"
  }
 },
 "nbformat": 4,
 "nbformat_minor": 0
}
