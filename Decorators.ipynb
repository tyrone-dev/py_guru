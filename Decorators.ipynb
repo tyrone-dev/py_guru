{
 "cells": [
  {
   "cell_type": "markdown",
   "metadata": {},
   "source": [
    "# Decorators"
   ]
  },
  {
   "cell_type": "markdown",
   "metadata": {},
   "source": [
    "Syntax:\n",
    "@decorator_name (just before function definition)\n",
    "\n",
    "After decorator has been defined! Decorator is a FUNCTION: Takes a function in, returns a function"
   ]
  },
  {
   "cell_type": "code",
   "execution_count": 1,
   "metadata": {
    "collapsed": false
   },
   "outputs": [
    {
     "ename": "NameError",
     "evalue": "name 'as_json' is not defined",
     "output_type": "error",
     "traceback": [
      "\u001b[1;31m---------------------------------------------------------------------------\u001b[0m",
      "\u001b[1;31mNameError\u001b[0m                                 Traceback (most recent call last)",
      "\u001b[1;32m<ipython-input-1-0a207487d1c7>\u001b[0m in \u001b[0;36m<module>\u001b[1;34m()\u001b[0m\n\u001b[0;32m      1\u001b[0m \u001b[1;31m# quick example\u001b[0m\u001b[1;33m\u001b[0m\u001b[1;33m\u001b[0m\u001b[0m\n\u001b[1;32m----> 2\u001b[1;33m \u001b[1;33m@\u001b[0m\u001b[0mas_json\u001b[0m  \u001b[1;31m# this is a decorator\u001b[0m\u001b[1;33m\u001b[0m\u001b[0m\n\u001b[0m\u001b[0;32m      3\u001b[0m \u001b[1;32mdef\u001b[0m \u001b[0mfunc\u001b[0m\u001b[1;33m(\u001b[0m\u001b[0mx\u001b[0m \u001b[1;33m,\u001b[0m\u001b[0my\u001b[0m\u001b[1;33m)\u001b[0m\u001b[1;33m:\u001b[0m\u001b[1;33m\u001b[0m\u001b[0m\n\u001b[0;32m      4\u001b[0m     \u001b[1;32mreturn\u001b[0m \u001b[1;33m{\u001b[0m\u001b[1;34m'result'\u001b[0m\u001b[1;33m:\u001b[0m \u001b[0mx\u001b[0m \u001b[1;33m+\u001b[0m \u001b[0my\u001b[0m\u001b[1;33m}\u001b[0m\u001b[1;33m\u001b[0m\u001b[0m\n",
      "\u001b[1;31mNameError\u001b[0m: name 'as_json' is not defined"
     ]
    }
   ],
   "source": [
    "# quick example\n",
    "@as_json  # this is a decorator: it decorates (changes bahaviour of function below)\n",
    "def func(x ,y):\n",
    "    return {'result': x + y}\n",
    "\n",
    "# this is what is actually happening\n",
    "def func(x, y):\n",
    "    return {'result': x + y}\n",
    "func = as_json(func)  # we are now using a decorated, or modified version of func"
   ]
  },
  {
   "cell_type": "code",
   "execution_count": 3,
   "metadata": {
    "collapsed": true
   },
   "outputs": [],
   "source": [
    "# decorators are functions!\n",
    "\n",
    "# decorators are easy to use - basically changes behaviour of functions\n",
    "# but difficult to write :(\n",
    "\n",
    "# Why decorators:\n",
    "# Flexible and generic code\n",
    "# DRY code - do not repeat yourself\n",
    "# Testable - they are functions\n",
    "\n",
    "# Decorators are:\n",
    "    # functions that takes a function as its only parameter and returns a function\n",
    "    # replaces a function with a new 'decorated' or 'wrapped' function"
   ]
  },
  {
   "cell_type": "code",
   "execution_count": 4,
   "metadata": {
    "collapsed": false
   },
   "outputs": [
    {
     "data": {
      "text/plain": [
       "['__call__',\n",
       " '__class__',\n",
       " '__closure__',\n",
       " '__code__',\n",
       " '__defaults__',\n",
       " '__delattr__',\n",
       " '__dict__',\n",
       " '__doc__',\n",
       " '__format__',\n",
       " '__get__',\n",
       " '__getattribute__',\n",
       " '__globals__',\n",
       " '__hash__',\n",
       " '__init__',\n",
       " '__module__',\n",
       " '__name__',\n",
       " '__new__',\n",
       " '__reduce__',\n",
       " '__reduce_ex__',\n",
       " '__repr__',\n",
       " '__setattr__',\n",
       " '__sizeof__',\n",
       " '__str__',\n",
       " '__subclasshook__',\n",
       " 'func_closure',\n",
       " 'func_code',\n",
       " 'func_defaults',\n",
       " 'func_dict',\n",
       " 'func_doc',\n",
       " 'func_globals',\n",
       " 'func_name']"
      ]
     },
     "execution_count": 4,
     "metadata": {},
     "output_type": "execute_result"
    }
   ],
   "source": [
    "# functions are objects --> they have attributes\n",
    "def my_func(x, y):\n",
    "    \"\"\"An example docstring\"\"\"\n",
    "    return {'result': x + y}\n",
    "\n",
    "dir(my_func) # list all attributes of function"
   ]
  },
  {
   "cell_type": "code",
   "execution_count": 7,
   "metadata": {
    "collapsed": false
   },
   "outputs": [
    {
     "name": "stdout",
     "output_type": "stream",
     "text": [
      "6\n",
      "3\n"
     ]
    }
   ],
   "source": [
    "# A simple Decorator\n",
    "# define the decorator\n",
    "def attach_data(func):\n",
    "    func.data = 3 # we are adding an attribute to the function func\n",
    "    return func # returns a function\n",
    "\n",
    "# use the decorator on a function\n",
    "@attach_data\n",
    "def add(x, y):\n",
    "    return x + y\n",
    "\n",
    "print add(2,4)  # normal behaviour\n",
    "\n",
    "print add.data  # in this case: mutated/decorated behaviour, decorator usually returns a new function altogether\n",
    "\n",
    "# need to look at defining function inside functions"
   ]
  },
  {
   "cell_type": "code",
   "execution_count": 10,
   "metadata": {
    "collapsed": false
   },
   "outputs": [
    {
     "name": "stdout",
     "output_type": "stream",
     "text": [
      "<function inner at 0x7f3e5b7f6050>\n",
      "5\n",
      "15\n"
     ]
    }
   ],
   "source": [
    "# function in which another fucntion is defined\n",
    "def add_by(x):\n",
    "    def inner (y): # function defined inside add_by (takes y arg)\n",
    "        return x + y # inner uses x and y - inner function has access to variables of function that surrounds it\n",
    "        # function inside function - scope of parent function = nonlocal scope - available to child function\n",
    "    return inner\n",
    "\n",
    "add1 = add_by(1) # calls add_by with arg 1 - returns inner (x = 1 - trapped)\n",
    "print add1 # this is a function\n",
    "print add1(4) # calls inner with y = 4\n",
    "\n",
    "# or\n",
    "\n",
    "print add_by(5)(10)  # function add_by returns another function when called, therefore call again"
   ]
  },
  {
   "cell_type": "code",
   "execution_count": 11,
   "metadata": {
    "collapsed": false
   },
   "outputs": [
    {
     "name": "stdout",
     "output_type": "stream",
     "text": [
      "52\n"
     ]
    }
   ],
   "source": [
    "# can also use lambda to define functions inside functions\n",
    "def add_by_again(x):\n",
    "    return lambda y: x + y # again nonlocal scope\n",
    "\n",
    "print add_by_again(12)(40)"
   ]
  },
  {
   "cell_type": "code",
   "execution_count": 13,
   "metadata": {
    "collapsed": false
   },
   "outputs": [
    {
     "data": {
      "text/plain": [
       "'{\"result\": 7}'"
      ]
     },
     "execution_count": 13,
     "metadata": {},
     "output_type": "execute_result"
    }
   ],
   "source": [
    "# implement as_json\n",
    "import json  # going to use json.dumps --> takes value and serializes it as json\n",
    "\n",
    "def as_json(func):\n",
    "    def inner (*args, **kwargs):  # inner function will be returned (*args, **kwargs) - used to handle any arguments given\n",
    "        result = func(*args, **kwargs)\n",
    "        return json.dumps(result) # serialize to json\n",
    "    return inner # return inner function\n",
    "@as_json\n",
    "def func(x, y):\n",
    "    return {'result': x + y}\n",
    "\n",
    "func(3,4) # now gives a json decorated string"
   ]
  },
  {
   "cell_type": "code",
   "execution_count": 1,
   "metadata": {
    "collapsed": false
   },
   "outputs": [
    {
     "name": "stdout",
     "output_type": "stream",
     "text": [
      "calling incr with (4,) {}\n",
      "result was 5\n",
      "5\n"
     ]
    }
   ],
   "source": [
    "# before/after decorator - useful for logging and debugging or timing function executions\n",
    "\n",
    "# decorator takes func in, returns func\n",
    "def print_call(func):\n",
    "    def inner(*args, **kwargs): # don't know what func will be called with \n",
    "        print 'calling {0} with {1} {2}'.format(func.__name__, args, kwargs)\n",
    "        result = func(*args, **kwargs)\n",
    "        print 'result was {0}'.format(result)\n",
    "        return result\n",
    "    return inner\n",
    "\n",
    "@print_call\n",
    "def incr(x):\n",
    "    return x + 1\n",
    "\n",
    "val = incr(4)\n",
    "\n",
    "print val"
   ]
  },
  {
   "cell_type": "code",
   "execution_count": null,
   "metadata": {
    "collapsed": true
   },
   "outputs": [],
   "source": []
  }
 ],
 "metadata": {
  "kernelspec": {
   "display_name": "Python 2",
   "language": "python",
   "name": "python2"
  },
  "language_info": {
   "codemirror_mode": {
    "name": "ipython",
    "version": 2
   },
   "file_extension": ".py",
   "mimetype": "text/x-python",
   "name": "python",
   "nbconvert_exporter": "python",
   "pygments_lexer": "ipython2",
   "version": "2.7.10"
  }
 },
 "nbformat": 4,
 "nbformat_minor": 0
}
