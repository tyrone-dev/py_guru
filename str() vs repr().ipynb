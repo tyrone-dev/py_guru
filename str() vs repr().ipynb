{
 "cells": [
  {
   "cell_type": "markdown",
   "metadata": {},
   "source": [
    "# str() and repr()"
   ]
  },
  {
   "cell_type": "code",
   "execution_count": 1,
   "metadata": {
    "collapsed": false
   },
   "outputs": [
    {
     "name": "stdout",
     "output_type": "stream",
     "text": [
      "[1, 2, 3, 4]\n",
      "[1, 2, 3, 4]\n",
      "sample string\n",
      "'sample string'\n"
     ]
    }
   ],
   "source": [
    "# investigate differences between str() and repr()\n",
    "a = range(1,5)\n",
    "b = 'sample string'\n",
    "\n",
    "print str(a)\n",
    "print repr(a)\n",
    "\n",
    "print str(b) # prints without quotes\n",
    "print repr(b) # prints with quotes"
   ]
  },
  {
   "cell_type": "code",
   "execution_count": 2,
   "metadata": {
    "collapsed": false
   },
   "outputs": [
    {
     "name": "stdout",
     "output_type": "stream",
     "text": [
      "str(a): 2016-02-20 12:09:46.343222\n",
      "str(b): 2016-02-20 12:09:46.343222\n",
      "\n",
      "repr(a): datetime.datetime(2016, 2, 20, 12, 9, 46, 343222)\n",
      "repr(b): '2016-02-20 12:09:46.343222'\n"
     ]
    }
   ],
   "source": [
    "# str() - returns string that is nicely printable\n",
    "# repr() - returns a string containing a printable representation of an object\n",
    "\n",
    "# repr() - goal: unambiguous - lets you see what object is (can be passed to eval())\n",
    "# str() - goal: readable\n",
    "\n",
    "import datetime\n",
    "import pytz\n",
    "\n",
    "a = datetime.datetime.utcnow()\n",
    "b = str(a)\n",
    "\n",
    "print 'str(a): {}'.format(str(a))\n",
    "print 'str(b): {}'.format(str(b))\n",
    "\n",
    "print \n",
    "\n",
    "print 'repr(a): {}'.format(repr(a)) # let's you see what the variable a is (its object representaion)\n",
    "print 'repr(b): {}'.format(repr(b)) #"
   ]
  },
  {
   "cell_type": "code",
   "execution_count": 3,
   "metadata": {
    "collapsed": false
   },
   "outputs": [
    {
     "data": {
      "text/plain": [
       "'1'"
      ]
     },
     "execution_count": 3,
     "metadata": {},
     "output_type": "execute_result"
    }
   ],
   "source": [
    "repr(1)"
   ]
  },
  {
   "cell_type": "code",
   "execution_count": 4,
   "metadata": {
    "collapsed": false
   },
   "outputs": [
    {
     "data": {
      "text/plain": [
       "1"
      ]
     },
     "execution_count": 4,
     "metadata": {},
     "output_type": "execute_result"
    }
   ],
   "source": [
    "eval(repr(1))"
   ]
  },
  {
   "cell_type": "code",
   "execution_count": 5,
   "metadata": {
    "collapsed": false
   },
   "outputs": [
    {
     "data": {
      "text/plain": [
       "'1'"
      ]
     },
     "execution_count": 5,
     "metadata": {},
     "output_type": "execute_result"
    }
   ],
   "source": [
    "str(1)"
   ]
  },
  {
   "cell_type": "code",
   "execution_count": 6,
   "metadata": {
    "collapsed": false
   },
   "outputs": [
    {
     "data": {
      "text/plain": [
       "1"
      ]
     },
     "execution_count": 6,
     "metadata": {},
     "output_type": "execute_result"
    }
   ],
   "source": [
    "eval('1')"
   ]
  },
  {
   "cell_type": "code",
   "execution_count": null,
   "metadata": {
    "collapsed": true
   },
   "outputs": [],
   "source": []
  }
 ],
 "metadata": {
  "kernelspec": {
   "display_name": "Python 2",
   "language": "python",
   "name": "python2"
  },
  "language_info": {
   "codemirror_mode": {
    "name": "ipython",
    "version": 2
   },
   "file_extension": ".py",
   "mimetype": "text/x-python",
   "name": "python",
   "nbconvert_exporter": "python",
   "pygments_lexer": "ipython2",
   "version": "2.7.10"
  }
 },
 "nbformat": 4,
 "nbformat_minor": 0
}
