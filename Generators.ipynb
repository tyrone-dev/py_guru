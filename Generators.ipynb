{
 "cells": [
  {
   "cell_type": "markdown",
   "metadata": {},
   "source": [
    "# Generators"
   ]
  },
  {
   "cell_type": "markdown",
   "metadata": {},
   "source": [
    "What are generators:\n",
    "\n",
    "Advantages over lists?"
   ]
  },
  {
   "cell_type": "code",
   "execution_count": 4,
   "metadata": {
    "collapsed": false
   },
   "outputs": [
    {
     "name": "stdout",
     "output_type": "stream",
     "text": [
      "[1, 2, 3, 4, 5]\n",
      "[1, 4, 9, 16, 25]\n"
     ]
    }
   ],
   "source": [
    "# simple function\n",
    "def square_numbers(numbers):\n",
    "    result = []\n",
    "    for i in numbers:\n",
    "        result.append(i*i)\n",
    "    return result\n",
    "\n",
    "my_nums = range(1,6)\n",
    "print my_nums\n",
    "\n",
    "my_nums_squared = square_numbers(my_nums)\n",
    "print my_nums_squared"
   ]
  },
  {
   "cell_type": "code",
   "execution_count": 7,
   "metadata": {
    "collapsed": false
   },
   "outputs": [
    {
     "name": "stdout",
     "output_type": "stream",
     "text": [
      "[1, 4, 9, 16, 25]\n"
     ]
    }
   ],
   "source": [
    "# list comprehension is possible too\n",
    "my_nums_squared_lc = [num*num for num in my_nums]\n",
    "print my_nums_squared_lc"
   ]
  },
  {
   "cell_type": "code",
   "execution_count": 10,
   "metadata": {
    "collapsed": false
   },
   "outputs": [
    {
     "name": "stdout",
     "output_type": "stream",
     "text": [
      "<generator object gen_sqaure_numbers at 0x7f32f8c2deb0>\n"
     ]
    }
   ],
   "source": [
    "# take the above square_numbers function and turn it into a generator:\n",
    "def gen_sqaure_numbers(numbers):\n",
    "    for i in numbers:\n",
    "        yield i*i  # note yield and not return\n",
    "\n",
    "my_num_gen = gen_sqaure_numbers(my_nums)\n",
    "print my_num_gen  # prints generator object"
   ]
  },
  {
   "cell_type": "code",
   "execution_count": 11,
   "metadata": {
    "collapsed": false
   },
   "outputs": [
    {
     "name": "stdout",
     "output_type": "stream",
     "text": [
      "1\n"
     ]
    }
   ],
   "source": [
    "# generators don't hold entire result in memory - yield one result at a time, waits for us to ask for next result\n",
    "print next(my_num_gen) # asking for next value"
   ]
  },
  {
   "cell_type": "code",
   "execution_count": 12,
   "metadata": {
    "collapsed": false
   },
   "outputs": [
    {
     "name": "stdout",
     "output_type": "stream",
     "text": [
      "4\n"
     ]
    }
   ],
   "source": [
    "print next(my_num_gen)"
   ]
  },
  {
   "cell_type": "code",
   "execution_count": 13,
   "metadata": {
    "collapsed": false
   },
   "outputs": [
    {
     "name": "stdout",
     "output_type": "stream",
     "text": [
      "1\n",
      "4\n",
      "9\n",
      "16\n",
      "25\n"
     ]
    }
   ],
   "source": [
    "# note that each time we run next(gen) on generator, the next result is computed and returned\n",
    "# if run next(gen) more times than what is contained by gen, will get error\n",
    "# Generator has been exhausted\n",
    "# usually use for loops with generators\n",
    "\n",
    "# let's create another gen\n",
    "my_num_gen2 = gen_sqaure_numbers(my_nums)\n",
    "for num in my_num_gen2:  # for every item in generator\n",
    "    print num\n"
   ]
  },
  {
   "cell_type": "code",
   "execution_count": 18,
   "metadata": {
    "collapsed": false
   },
   "outputs": [
    {
     "name": "stdout",
     "output_type": "stream",
     "text": [
      "<generator object <genexpr> at 0x7f32f8be2190>\n"
     ]
    }
   ],
   "source": [
    "# the above example can be done with list comprehension - in a single line as shown above\n",
    "# can also use list comprehension to create generator - generator expression\n",
    "\n",
    "my_num_gen_ge = (num*num for num in my_nums)\n",
    "print my_num_gen_ge"
   ]
  },
  {
   "cell_type": "code",
   "execution_count": 19,
   "metadata": {
    "collapsed": false
   },
   "outputs": [
    {
     "name": "stdout",
     "output_type": "stream",
     "text": [
      "[1, 4, 9, 16, 25]\n"
     ]
    }
   ],
   "source": [
    "# can convert generator to list - compute all values from generator and return complete list\n",
    "print list(my_num_gen_ge)\n",
    "# however, converting to list loses the advantages/benefits associated with generators"
   ]
  },
  {
   "cell_type": "code",
   "execution_count": 26,
   "metadata": {
    "collapsed": false
   },
   "outputs": [
    {
     "name": "stdout",
     "output_type": "stream",
     "text": [
      "Memory (Before List): [367.40625]MB\n",
      "Memory (AfterList): [374.921875]MB\n",
      "List Took 1.849961 seconds\n",
      "Memory (Before Gen): [374.921875]MB\n",
      "Memory (After Gen): [374.921875]MB\n",
      "Gen Took 8.10000000016e-05 seconds\n"
     ]
    }
   ],
   "source": [
    "# generators are better performance wise because it doesn't hold all values in memory - large array\n",
    "# lets look at a better example to illustrate performance difference\n",
    "import memory_profiler\n",
    "import random\n",
    "import time\n",
    "\n",
    "names = ['John', 'Corey', 'Adam', 'Steve', 'Rick', 'Thomas']\n",
    "majors = ['Math', 'Engineering', 'CompSci', 'Arts', 'Business']\n",
    "\n",
    "\n",
    "# create a list for a given number of people\n",
    "def people_list(num_people):\n",
    "    result = []\n",
    "    for i in xrange(num_people):\n",
    "        person = {\n",
    "                    'id': i,\n",
    "                    'name': random.choice(names),\n",
    "                    'major': random.choice(majors)\n",
    "        }\n",
    "        result.append(person)\n",
    "    return result\n",
    "# create a generator for a certain number of people\n",
    "# note the use of xrange as opposed to range - similar to generators, xrange returns an xrange object\n",
    "# that generates values as you need them - uses yielding\n",
    "def people_generator(num_people):\n",
    "    for i in xrange(num_people):\n",
    "        person = {\n",
    "                    'id': i,\n",
    "                    'name': random.choice(names),\n",
    "                    'major': random.choice(majors)\n",
    "        }\n",
    "    yield person\n",
    "print 'Memory (Before List): {}MB'.format(memory_profiler.memory_usage())\n",
    "# time how long it takes to run - list\n",
    "t1 = time.clock()\n",
    "people = people_list(1000000)\n",
    "t2 = time.clock()\n",
    "\n",
    "print 'Memory (AfterList): {}MB'.format(memory_profiler.memory_usage())\n",
    "print 'List Took {} seconds'.format(t2-t1) \n",
    "\n",
    "print 'Memory (Before Gen): {}MB'.format(memory_profiler.memory_usage())\n",
    "# time how long it takes to run - generator\n",
    "t1_g = time.clock()\n",
    "people_gen = people_generator(1000000)\n",
    "t2_g = time.clock()\n",
    "\n",
    "print 'Memory (After Gen): {}MB'.format(memory_profiler.memory_usage())\n",
    "print 'Gen Took {} seconds'.format(t2_g-t1_g)"
   ]
  },
  {
   "cell_type": "code",
   "execution_count": null,
   "metadata": {
    "collapsed": true
   },
   "outputs": [],
   "source": [
    "# generators therefore give performance benefits in terms of memory usage and speed"
   ]
  }
 ],
 "metadata": {
  "kernelspec": {
   "display_name": "Python 2",
   "language": "python",
   "name": "python2"
  },
  "language_info": {
   "codemirror_mode": {
    "name": "ipython",
    "version": 2
   },
   "file_extension": ".py",
   "mimetype": "text/x-python",
   "name": "python",
   "nbconvert_exporter": "python",
   "pygments_lexer": "ipython2",
   "version": "2.7.10"
  }
 },
 "nbformat": 4,
 "nbformat_minor": 0
}
