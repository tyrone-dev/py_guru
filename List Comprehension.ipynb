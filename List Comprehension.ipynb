{
 "cells": [
  {
   "cell_type": "markdown",
   "metadata": {},
   "source": [
    "# List Comprehsion, Map, Reduce, Filter, Lambda"
   ]
  },
  {
   "cell_type": "markdown",
   "metadata": {},
   "source": [
    "List comprehension - easier and more readable way to create lists as opposed to using for loop\n",
    "Lists = array of variables/ sequence of variables \n",
    "* are mutable\n",
    "* [] defines lists\n",
    "* indexable by list[]\n",
    "* some list methods .sort(), .reverse()\n",
    "\n",
    "Comprehensions allows for a succinctway to create lists, dicts, sets by 'saying what you want' - see later. It can support nested for loops, and conditionals"
   ]
  },
  {
   "cell_type": "code",
   "execution_count": 1,
   "metadata": {
    "collapsed": false
   },
   "outputs": [
    {
     "name": "stdout",
     "output_type": "stream",
     "text": [
      "[1, 2, 3, 4, 5, 6, 7, 8, 9, 10]\n"
     ]
    }
   ],
   "source": [
    "# lets create a list\n",
    "nums = range(1,11) # list of ints 1 - 10\n",
    "\n",
    "# lets create a list containing each number in nums\n",
    "my_list = [] # first another blank list\n",
    "for num in nums:\n",
    "    my_list.append(num)\n",
    "\n",
    "print my_list"
   ]
  },
  {
   "cell_type": "code",
   "execution_count": 2,
   "metadata": {
    "collapsed": false
   },
   "outputs": [
    {
     "name": "stdout",
     "output_type": "stream",
     "text": [
      "[1, 2, 3, 4, 5, 6, 7, 8, 9, 10]\n"
     ]
    }
   ],
   "source": [
    "# now lets use list comprehension {more readable}\n",
    "my_list_lc = [num for num in nums]\n",
    "print my_list_lc\n",
    "\n",
    "# as can be seen, give the exact same outcome as the for loop above"
   ]
  },
  {
   "cell_type": "code",
   "execution_count": 3,
   "metadata": {
    "collapsed": false
   },
   "outputs": [
    {
     "name": "stdout",
     "output_type": "stream",
     "text": [
      "[1, 4, 9, 16, 25, 36, 49, 64, 81, 100]\n"
     ]
    }
   ],
   "source": [
    "# lets do something more exciting\n",
    "# instead of creating a new list from the old lists elements, lets create a list of sqaures\n",
    "my_list2 = []\n",
    "for num in nums:\n",
    "    my_list2.append(num*num)\n",
    "print my_list2"
   ]
  },
  {
   "cell_type": "code",
   "execution_count": 5,
   "metadata": {
    "collapsed": false
   },
   "outputs": [
    {
     "name": "stdout",
     "output_type": "stream",
     "text": [
      "[1, 4, 9, 16, 25, 36, 49, 64, 81, 100]\n"
     ]
    }
   ],
   "source": [
    "# again LC is more efficient\n",
    "my_list2_lc = [num*num for num in nums]\n",
    "print my_list2_lc"
   ]
  },
  {
   "cell_type": "code",
   "execution_count": 7,
   "metadata": {
    "collapsed": false
   },
   "outputs": [
    {
     "name": "stdout",
     "output_type": "stream",
     "text": [
      "[1, 4, 9, 16, 25, 36, 49, 64, 81, 100]\n"
     ]
    }
   ],
   "source": [
    "# the map function works as follows: syntax: map(func, seq) \n",
    "# map takes the given func and applies it to every item in the seq - returns a new list\n",
    "# lambda is used to create anonymous inline functions, without defining functions - useful for map, filter, reduce!\n",
    "my_list2_map = map(lambda num: num*num, nums)\n",
    "print my_list2_map"
   ]
  },
  {
   "cell_type": "code",
   "execution_count": 9,
   "metadata": {
    "collapsed": false
   },
   "outputs": [
    {
     "name": "stdout",
     "output_type": "stream",
     "text": [
      "[2, 4, 6, 8, 10]\n"
     ]
    }
   ],
   "source": [
    "# let's try something more intricate\n",
    "# want to filter out even numbers only\n",
    "my_list3 = []\n",
    "for num in nums:\n",
    "    if num%2==0:\n",
    "        my_list3.append(num)\n",
    "        \n",
    "print my_list3"
   ]
  },
  {
   "cell_type": "code",
   "execution_count": 12,
   "metadata": {
    "collapsed": false
   },
   "outputs": [
    {
     "name": "stdout",
     "output_type": "stream",
     "text": [
      "[2, 4, 6, 8, 10]\n"
     ]
    }
   ],
   "source": [
    "# LC can be used - more readable!\n",
    "my_list3_lc = [num for num in nums if num%2==0]\n",
    "print my_list3_lc"
   ]
  },
  {
   "cell_type": "code",
   "execution_count": 16,
   "metadata": {
    "collapsed": false
   },
   "outputs": [
    {
     "name": "stdout",
     "output_type": "stream",
     "text": [
      "[2, 4, 6, 8, 10]\n"
     ]
    }
   ],
   "source": [
    "# filter function can be used to select specific elements from a list: filter(func, seq)\n",
    "# filter returns a list containing elements for which fucn(seq[i]) evaluates to true\n",
    "my_list3_filter = filter(lambda num: num%2==0, nums)\n",
    "print my_list3_filter"
   ]
  },
  {
   "cell_type": "code",
   "execution_count": 17,
   "metadata": {
    "collapsed": false
   },
   "outputs": [
    {
     "name": "stdout",
     "output_type": "stream",
     "text": [
      "[('a', 0), ('a', 1), ('a', 2), ('a', 3), ('b', 0), ('b', 1), ('b', 2), ('b', 3), ('c', 0), ('c', 1), ('c', 2), ('c', 3), ('d', 0), ('d', 1), ('d', 2), ('d', 3)]\n"
     ]
    }
   ],
   "source": [
    "# more applications - nested FOR LOOPS\n",
    "# Want a (letter, number) pair for each letter in 'abcd' and each number in '0123'\n",
    "my_list4 = []\n",
    "for letter in 'abcd':\n",
    "    for num in range(4):\n",
    "        my_list4.append((letter,num))\n",
    "print my_list4"
   ]
  },
  {
   "cell_type": "code",
   "execution_count": 19,
   "metadata": {
    "collapsed": false
   },
   "outputs": [
    {
     "name": "stdout",
     "output_type": "stream",
     "text": [
      "[('a', 0), ('a', 1), ('a', 2), ('a', 3), ('b', 0), ('b', 1), ('b', 2), ('b', 3), ('c', 0), ('c', 1), ('c', 2), ('c', 3), ('d', 0), ('d', 1), ('d', 2), ('d', 3)]\n"
     ]
    }
   ],
   "source": [
    "# can once again apply LC\n",
    "# note (letter,num) is tuple therefore, list of tuples\n",
    "my_list4_lc = [(letter, num) for letter in 'abcd' for num in range(4)]\n",
    "print my_list4_lc"
   ]
  },
  {
   "cell_type": "markdown",
   "metadata": {},
   "source": [
    "Dictionary Comprehension - same idea of creating dictionary using this clean syntax\n",
    "Dictionary: sequence of variables but key/value based, also called hashmaps\n",
    "* {key: value, key2: value2}\n",
    "* can use zip function to create dictionary from other lists: dict(zip(list1, list2))"
   ]
  },
  {
   "cell_type": "code",
   "execution_count": 20,
   "metadata": {
    "collapsed": false
   },
   "outputs": [
    {
     "name": "stdout",
     "output_type": "stream",
     "text": [
      "[('Bruce', 'Batman'), ('Clark', 'Superman'), ('Peter', 'Spiderman'), ('Logan', 'Wolverine'), ('Wade', 'Deadpool')]\n",
      "{'Bruce': 'Batman', 'Wade': 'Deadpool', 'Logan': 'Wolverine', 'Peter': 'Spiderman', 'Clark': 'Superman'}\n"
     ]
    }
   ],
   "source": [
    "names = ['Bruce', 'Clark', 'Peter', 'Logan', 'Wade']\n",
    "heroes = ['Batman', 'Superman', 'Spiderman', 'Wolverine', 'Deadpool']\n",
    "# zip function - creates list of tuples from given list: [(list1[0], list2[0]), ... ]\n",
    "hero_list = zip(names, heroes)\n",
    "print hero_list\n",
    "hero_dict = dict(zip(names, heroes))\n",
    "print hero_dict"
   ]
  },
  {
   "cell_type": "code",
   "execution_count": 22,
   "metadata": {
    "collapsed": false
   },
   "outputs": [
    {
     "name": "stdout",
     "output_type": "stream",
     "text": [
      "{'Bruce': 'Batman', 'Wade': 'Deadpool', 'Logan': 'Wolverine', 'Peter': 'Spiderman', 'Clark': 'Superman'}\n"
     ]
    }
   ],
   "source": [
    "# lets use for loops to create a dictionary\n",
    "my_hero_dict = {}\n",
    "for name, hero in zip(names, heroes):\n",
    "    my_hero_dict[name] = hero\n",
    "print my_hero_dict"
   ]
  },
  {
   "cell_type": "code",
   "execution_count": 24,
   "metadata": {
    "collapsed": false
   },
   "outputs": [
    {
     "name": "stdout",
     "output_type": "stream",
     "text": [
      "{'Bruce': 'Batman', 'Wade': 'Deadpool', 'Logan': 'Wolverine', 'Peter': 'Spiderman', 'Clark': 'Superman'}\n"
     ]
    }
   ],
   "source": [
    "# dictionary comprehension:\n",
    "my_hero_dict_dc = {name: hero for name, hero in zip(names, heroes)}\n",
    "print my_hero_dict_dc"
   ]
  },
  {
   "cell_type": "code",
   "execution_count": 27,
   "metadata": {
    "collapsed": false
   },
   "outputs": [
    {
     "name": "stdout",
     "output_type": "stream",
     "text": [
      "{'Bruce': 'Batman', 'Wade': 'Deadpool', 'Logan': 'Wolverine', 'Clark': 'Superman'}\n"
     ]
    }
   ],
   "source": [
    "# as seen with lists, can have conditional in the comprehension - easy to add\n",
    "# lets remove Spiderman from the dict\n",
    "my_hero_dict_dc_filter = {name: hero for name, hero in zip(names, heroes) if name != 'Peter'}\n",
    "print my_hero_dict_dc_filter"
   ]
  },
  {
   "cell_type": "markdown",
   "metadata": {},
   "source": [
    "Sets: same definition from mathematics and statistics:\n",
    "* Unordered collection of unique and immutable objects\n",
    "* Python implmentation of statistical sets\n",
    "* creata a set with set()\n",
    "* sets can't contain lists (lists are mutable)\n",
    "* sets themselves are mutable\n",
    "* forzenset() - creates a frozen set which is an immutable set\n",
    "* set methods - lots of statistical stuff (intersection, isdisjoint, etc)"
   ]
  },
  {
   "cell_type": "code",
   "execution_count": 28,
   "metadata": {
    "collapsed": false
   },
   "outputs": [
    {
     "name": "stdout",
     "output_type": "stream",
     "text": [
      "set([1, 2, 3, 4, 5, 6, 7, 8, 9])\n"
     ]
    }
   ],
   "source": [
    "# set comprehension can also be used to create sets\n",
    "nums = [1,1,2,1,3,4,3,4,5,5,6,7,8,7,9,9] # note repeated elements - set will only contain unique values\n",
    "# for loop\n",
    "my_set = set()\n",
    "for num in nums:\n",
    "    my_set.add(num)\n",
    "print my_set"
   ]
  },
  {
   "cell_type": "code",
   "execution_count": 31,
   "metadata": {
    "collapsed": false
   },
   "outputs": [
    {
     "name": "stdout",
     "output_type": "stream",
     "text": [
      "set([1, 2, 3, 4, 5, 6, 7, 8, 9])\n"
     ]
    }
   ],
   "source": [
    "# using set comprehension: use {} braces like DC, but no :\n",
    "my_set_sc = {num for num in nums}\n",
    "print my_set_sc"
   ]
  },
  {
   "cell_type": "code",
   "execution_count": 32,
   "metadata": {
    "collapsed": false
   },
   "outputs": [
    {
     "name": "stdout",
     "output_type": "stream",
     "text": [
      "1\n",
      "4\n",
      "9\n",
      "16\n",
      "25\n",
      "36\n",
      "49\n",
      "64\n",
      "81\n",
      "100\n"
     ]
    }
   ],
   "source": [
    "# Generator Expressions [similar to list comprehension?]\n",
    "# Generator: \n",
    "nums = range(1,11)\n",
    "\n",
    "# want to yield n*n for each n in nums\n",
    "def gen_func(nums):\n",
    "    for num in nums:\n",
    "        yield num*num\n",
    "        \n",
    "my_gen = gen_func(nums)\n",
    "\n",
    "for i in my_gen:\n",
    "    print i"
   ]
  },
  {
   "cell_type": "code",
   "execution_count": 35,
   "metadata": {
    "collapsed": false
   },
   "outputs": [
    {
     "name": "stdout",
     "output_type": "stream",
     "text": [
      "1\n",
      "4\n",
      "9\n",
      "16\n",
      "25\n",
      "36\n",
      "49\n",
      "64\n",
      "81\n",
      "100\n"
     ]
    }
   ],
   "source": [
    "# let's look at Generator Expressions\n",
    "# similar to list comprehension - use ()\n",
    "my_gen_ge = (n*n for n in nums)\n",
    "\n",
    "for i in my_gen_ge:\n",
    "    print i"
   ]
  },
  {
   "cell_type": "code",
   "execution_count": 37,
   "metadata": {
    "collapsed": false
   },
   "outputs": [
    {
     "name": "stdout",
     "output_type": "stream",
     "text": [
      "55\n"
     ]
    }
   ],
   "source": [
    "# A note on reduce\n",
    "# reduce(func, seq) - applies func to the entire sequence iteratively, returns single value\n",
    "# i.e. in this example: func(1,2) then seq becomes [func(1,2),3,4,5,6,7,8,9,10], then apply func(func(1,2),3) etc\n",
    "# until reduced to a single value\n",
    "my_numbers = [1,2,3,4,5,6,7,8,9,10]\n",
    "def add(x, y):\n",
    "    return x+y\n",
    "\n",
    "ans = reduce(add, my_numbers)\n",
    "print ans"
   ]
  },
  {
   "cell_type": "code",
   "execution_count": null,
   "metadata": {
    "collapsed": true
   },
   "outputs": [],
   "source": []
  }
 ],
 "metadata": {
  "kernelspec": {
   "display_name": "Python 2",
   "language": "python",
   "name": "python2"
  },
  "language_info": {
   "codemirror_mode": {
    "name": "ipython",
    "version": 2
   },
   "file_extension": ".py",
   "mimetype": "text/x-python",
   "name": "python",
   "nbconvert_exporter": "python",
   "pygments_lexer": "ipython2",
   "version": "2.7.10"
  }
 },
 "nbformat": 4,
 "nbformat_minor": 0
}
