{
 "cells": [
  {
   "cell_type": "code",
   "execution_count": 6,
   "metadata": {
    "collapsed": true
   },
   "outputs": [],
   "source": [
    "import re\n",
    "\n",
    "regex = r'([A-Za-z]+)\\s(\\d+)'"
   ]
  },
  {
   "cell_type": "code",
   "execution_count": 7,
   "metadata": {
    "collapsed": false
   },
   "outputs": [
    {
     "name": "stdout",
     "output_type": "stream",
     "text": [
      "Match at index 0, 7\n",
      "Full match: June 24\n",
      "Month: June\n",
      "Day: 24\n"
     ]
    }
   ],
   "source": [
    "if re.search(regex, \"June 24\"):\n",
    "    match = re.search(regex, \"June 24\")\n",
    "    print \"Match at index %s, %s\" % (match.start(), match.end())\n",
    "    print \"Full match: %s\" % (match.group(0))\n",
    "    print \"Month: %s\" % (match.group(1))\n",
    "    print \"Day: %s\" % (match.group(2))\n",
    "else:\n",
    "    print \"The regex does not match\""
   ]
  },
  {
   "cell_type": "code",
   "execution_count": 9,
   "metadata": {
    "collapsed": false
   },
   "outputs": [
    {
     "name": "stdout",
     "output_type": "stream",
     "text": [
      "['June 24', 'August 9', 'Dec 12']\n",
      "Full match: June 24\n",
      "Full match: August 9\n",
      "Full match: Dec 12\n"
     ]
    }
   ],
   "source": [
    "# re.search (as used above only searches until the first match!)\n",
    "# to perform a global search use re.findall()\n",
    "regex2 = r\"[A-Za-z]+\\s\\d+\"\n",
    "matches = re.findall(regex2, \"June 24, August 9, Dec 12\")\n",
    "print matches\n",
    "for match in matches:\n",
    "    print \"Full match: %s\" % (match)"
   ]
  },
  {
   "cell_type": "code",
   "execution_count": 13,
   "metadata": {
    "collapsed": false
   },
   "outputs": [
    {
     "name": "stdout",
     "output_type": "stream",
     "text": [
      "['June', 'August', 'Dec']\n",
      "Match months: June\n",
      "Match months: August\n",
      "Match months: Dec\n"
     ]
    }
   ],
   "source": [
    "regex3 = r\"([a-zA-Z]+)\\s\\d+\"\n",
    "matches = re.findall(regex3, \"June 24, August 9, Dec 12\")\n",
    "print matches\n",
    "for match in matches:\n",
    "    print \"Match months: %s\" % (match)"
   ]
  },
  {
   "cell_type": "code",
   "execution_count": 16,
   "metadata": {
    "collapsed": false
   },
   "outputs": [
    {
     "name": "stdout",
     "output_type": "stream",
     "text": [
      "Match at index: 0, 7\n",
      "Match at index: 9, 17\n",
      "Match at index: 19, 25\n"
     ]
    }
   ],
   "source": [
    "matches = re.finditer(regex3, \"June 24, August 9, Dec 12\")\n",
    "for match in matches:\n",
    "    print \"Match at index: %s, %s\" % (match.start(), match.end())"
   ]
  },
  {
   "cell_type": "code",
   "execution_count": 17,
   "metadata": {
    "collapsed": false
   },
   "outputs": [
    {
     "name": "stdout",
     "output_type": "stream",
     "text": [
      "24 of June, 9 of August, 12 of Dec\n"
     ]
    }
   ],
   "source": [
    "# finding and replacing strings can be done with the re.sub() method\n",
    "regex4 = r\"([A-Za-z]+)\\s(\\d+)\"\n",
    "print re.sub(regex4, r\"\\2 of \\1\", \"June 24, August 9, Dec 12\")"
   ]
  },
  {
   "cell_type": "code",
   "execution_count": 19,
   "metadata": {
    "collapsed": false
   },
   "outputs": [
    {
     "data": {
      "text/plain": [
       "'24 of June, 9 of August, 12 of Dec'"
      ]
     },
     "execution_count": 19,
     "metadata": {},
     "output_type": "execute_result"
    }
   ],
   "source": [
    "re.sub(regex4, r\"\\2 of \\1\", \"June 24, August 9, Dec 12\")"
   ]
  },
  {
   "cell_type": "code",
   "execution_count": 30,
   "metadata": {
    "collapsed": false
   },
   "outputs": [],
   "source": [
    "# compile regex that will be used multiple times\n",
    "regex5 = re.compile(r\"(\\w+) World\")\n",
    "result = regex5.search(\"Hello World is the easiest\")"
   ]
  },
  {
   "cell_type": "code",
   "execution_count": 34,
   "metadata": {
    "collapsed": false
   },
   "outputs": [
    {
     "name": "stdout",
     "output_type": "stream",
     "text": [
      "Hello\n",
      "Bonjour\n"
     ]
    }
   ],
   "source": [
    "for result in regex5.findall(\"Hello World, Bonjour World\"):\n",
    "    print result"
   ]
  },
  {
   "cell_type": "code",
   "execution_count": 36,
   "metadata": {
    "collapsed": false
   },
   "outputs": [
    {
     "name": "stdout",
     "output_type": "stream",
     "text": [
      "Hello Earth\n"
     ]
    }
   ],
   "source": [
    "print regex5.sub(r\"\\1 Earth\", \"Hello World\")"
   ]
  },
  {
   "cell_type": "code",
   "execution_count": 37,
   "metadata": {
    "collapsed": true
   },
   "outputs": [],
   "source": [
    "# google dev walkthrough of regex"
   ]
  },
  {
   "cell_type": "code",
   "execution_count": 40,
   "metadata": {
    "collapsed": false
   },
   "outputs": [
    {
     "name": "stdout",
     "output_type": "stream",
     "text": [
      "found word:cat\n"
     ]
    }
   ],
   "source": [
    "str = 'an example word:cat!!'\n",
    "match = re.search(r'word:\\w\\w\\w', str)\n",
    "if match:\n",
    "    print 'found', match.group()\n",
    "else:\n",
    "    print 'did not find'"
   ]
  },
  {
   "cell_type": "code",
   "execution_count": 49,
   "metadata": {
    "collapsed": false
   },
   "outputs": [
    {
     "name": "stdout",
     "output_type": "stream",
     "text": [
      "found iii\n"
     ]
    }
   ],
   "source": [
    "match = re.search(r'iii', 'piiig')\n",
    "if match:\n",
    "    print 'found', match.group()"
   ]
  },
  {
   "cell_type": "code",
   "execution_count": 50,
   "metadata": {
    "collapsed": true
   },
   "outputs": [],
   "source": [
    "match = re.search(r'igs', 'piiig')\n",
    "if match:\n",
    "    print 'found', match.group()"
   ]
  },
  {
   "cell_type": "code",
   "execution_count": 54,
   "metadata": {
    "collapsed": false
   },
   "outputs": [
    {
     "name": "stdout",
     "output_type": "stream",
     "text": [
      "alice-b@google.com\n"
     ]
    }
   ],
   "source": [
    "email = 'purple alice-b@google.com monkey dishwasher'\n",
    "match = re.search(r'[\\w\\-\\.]+@[\\w\\-\\.]+', email)\n",
    "if match:\n",
    "    print match.group()\n"
   ]
  },
  {
   "cell_type": "code",
   "execution_count": 55,
   "metadata": {
    "collapsed": false
   },
   "outputs": [
    {
     "name": "stdout",
     "output_type": "stream",
     "text": [
      "alice-b@google.com\n",
      "alice-b\n",
      "google.com\n"
     ]
    }
   ],
   "source": [
    "email = 'purple alice-b@google.com monkey dishwasher'\n",
    "match = re.search(r'([\\w\\-\\.]+)@([\\w\\-\\.]+)', email)\n",
    "if match:\n",
    "    print match.group()\n",
    "    print match.group(1)\n",
    "    print match.group(2)"
   ]
  },
  {
   "cell_type": "code",
   "execution_count": 61,
   "metadata": {
    "collapsed": false
   },
   "outputs": [
    {
     "name": "stdout",
     "output_type": "stream",
     "text": [
      "alice@google.com\n",
      "bob@abc.com\n"
     ]
    }
   ],
   "source": [
    "many_emails = 'purple alice@google.com, blah monkey bob@abc.com blah dishwasher'\n",
    "# findall will return a list with all the found email addresses\n",
    "emails = re.findall(r'[\\w.-]+@[\\w.-]+', many_emails)\n",
    "for email in emails:\n",
    "    print email"
   ]
  },
  {
   "cell_type": "code",
   "execution_count": 64,
   "metadata": {
    "collapsed": false
   },
   "outputs": [
    {
     "name": "stdout",
     "output_type": "stream",
     "text": [
      "('alice', 'google.com')\n",
      "alice\n",
      "google.com\n",
      "('bob', 'abc.com')\n",
      "bob\n",
      "abc.com\n"
     ]
    }
   ],
   "source": [
    "many_emails = 'purple alice@google.com, blah monkey bob@abc.com blah dishwasher'\n",
    "# if there are more than 2 parenthesis groups, findall will return a list of tuples. Each tuple represents one\n",
    "# match of the pattern, and inside the tupe is (group(1), group(2), ..., group(n))\n",
    "emails = re.findall(r'([\\w.-]+)@([\\w.-]+)', many_emails)\n",
    "for email_tuple in emails:\n",
    "    print email_tuple\n",
    "    print email_tuple[0]\n",
    "    print email_tuple[1]"
   ]
  },
  {
   "cell_type": "code",
   "execution_count": 65,
   "metadata": {
    "collapsed": false
   },
   "outputs": [
    {
     "name": "stdout",
     "output_type": "stream",
     "text": [
      "purple alice@yo-yo-yo-dyne.com, blah monkey bob@yo-yo-yo-dyne.com blah dishwasher\n"
     ]
    }
   ],
   "source": [
    "#replacing\n",
    "default_emails = str = 'purple alice@google.com, blah monkey bob@abc.com blah dishwasher'\n",
    "# re.sub(pat, replacement, str) -- returns new string with all repalcements\n",
    "# \\1 is group(1), \\2 is group(2) in the replacement\n",
    "print re.sub(r'([\\w.-]+)@([\\w.-]+)', r'\\1@yo-yo-yo-dyne.com', default_emails)"
   ]
  },
  {
   "cell_type": "code",
   "execution_count": null,
   "metadata": {
    "collapsed": true
   },
   "outputs": [],
   "source": []
  }
 ],
 "metadata": {
  "kernelspec": {
   "display_name": "Python 2",
   "language": "python",
   "name": "python2"
  },
  "language_info": {
   "codemirror_mode": {
    "name": "ipython",
    "version": 2
   },
   "file_extension": ".py",
   "mimetype": "text/x-python",
   "name": "python",
   "nbconvert_exporter": "python",
   "pygments_lexer": "ipython2",
   "version": "2.7.6"
  }
 },
 "nbformat": 4,
 "nbformat_minor": 0
}
