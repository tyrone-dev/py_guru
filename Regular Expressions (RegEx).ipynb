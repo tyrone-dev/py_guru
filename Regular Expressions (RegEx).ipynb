{
 "cells": [
  {
   "cell_type": "markdown",
   "metadata": {
    "collapsed": true
   },
   "source": [
    "# Regular Expressions"
   ]
  },
  {
   "cell_type": "markdown",
   "metadata": {},
   "source": [
    "RegEx - pattern matching language\n",
    "Used for searches, find, replace\n",
    "Expression built using string of characters: Metacharacters (special meaning) and Regular characters (literal) meaning\n",
    "Simple to learn, hard + long to master\n",
    "\n",
    "Regex is efficient for finding patterns in text\n",
    "\n",
    "Regex allows string searching and manipulation - frequently used for web scraping"
   ]
  },
  {
   "cell_type": "code",
   "execution_count": 12,
   "metadata": {
    "collapsed": true
   },
   "outputs": [],
   "source": [
    "# Metacharacters\n",
    "# . - matches any single characters\n",
    "# [ ] - matches the single characters contained in [], can use ranges [a-z]\n",
    "# [^ ] - matches a signle char not contained in []\n",
    "# ^ - matches expression if at the start of the string\n",
    "# $ - matches expression if at the end of the string\n",
    "# () - contains substrings (BODMAS?)\n",
    "# * - matches the preceding element zero or more times\n",
    "\n",
    "# Option Flags\n",
    "# re.I - ignore case matching\n",
    "# re.M - makes $ match end of line and ^ start of line\n",
    "# re.S - makes . match any char, even new line char\n",
    "# re.U - interprets in Unicode\n",
    "# re.X - ignores whitespace within patter\n",
    "\n",
    "# Base Methods:\n",
    "# match() - checks to see if the expression matches the entire string\n",
    "# search() - checks to see if there is a match anywhere in the string\n",
    "\n",
    "# for performance - compile pattern matches (don't recompile if using same pattern match over and over)\n",
    "# my_reg = re.compile(patter)\n",
    "# then result = my_reg.match/search(string)"
   ]
  },
  {
   "cell_type": "code",
   "execution_count": 2,
   "metadata": {
    "collapsed": true
   },
   "outputs": [],
   "source": [
    "# when contructing pattern/expression - use a raw string to avoice issues with Python r'pattern'"
   ]
  },
  {
   "cell_type": "code",
   "execution_count": 5,
   "metadata": {
    "collapsed": true
   },
   "outputs": [],
   "source": [
    "import re # import regex\n",
    "\n",
    "def main():\n",
    "    line = 'I think I understand regular expressions'\n",
    "    \n",
    "    # use regex match\n",
    "    match_result = re.match(r'think', line, re.M|re.I) # look for any match of 'think' in line \n",
    "    # match only matches if whole string is as given\n",
    "    if match_result:  # if successful (was a match)\n",
    "        print 'Match Found: {}'.format(match_result.group())\n",
    "    else:\n",
    "        print 'No match found...'\n",
    "    \n",
    "    # use regex search\n",
    "    # search looks in the entire string\n",
    "    search_result = re.search(r'think', line, re.M|re.I) # search for any match of 'think'\n",
    "    if search_result:\n",
    "        print 'Search found: {}'.format(search_result.group())\n",
    "    else:\n",
    "        print 'Nothing found in search'"
   ]
  },
  {
   "cell_type": "code",
   "execution_count": 6,
   "metadata": {
    "collapsed": false
   },
   "outputs": [
    {
     "name": "stdout",
     "output_type": "stream",
     "text": [
      "No match found...\n",
      "Search found: think\n"
     ]
    }
   ],
   "source": [
    "main()"
   ]
  },
  {
   "cell_type": "code",
   "execution_count": 7,
   "metadata": {
    "collapsed": true
   },
   "outputs": [],
   "source": [
    "# lookup program - takes a textfile and word to search for - find word in text file\n",
    "import re\n",
    "# import argparse\n",
    "def lookup(word, filename):\n",
    "    search_file = open(filename)\n",
    "    line_number = 0\n",
    "    for line in search_file.readlines():\n",
    "        line = line.strip('\\n\\r') # strip newline and CR chars\n",
    "        line_number += 1\n",
    "        search_result = re.search(word, line, re.M|re.I) # search for word in line\n",
    "        \n",
    "        if search_result:\n",
    "            # found word in line\n",
    "            print '{} : {}'.format(str(line_number), line)"
   ]
  },
  {
   "cell_type": "code",
   "execution_count": 8,
   "metadata": {
    "collapsed": false
   },
   "outputs": [
    {
     "name": "stdout",
     "output_type": "stream",
     "text": [
      "banner.p                                 List Comprehension.ipynb\r\n",
      "\u001b[0m\u001b[01;32mbull.py\u001b[0m*                                 \u001b[01;32mlook_and_say.py\u001b[0m*\r\n",
      "\u001b[01;32mchannel.py\u001b[0m*                              \u001b[01;32mmap_reduce_fillter.py\u001b[0m*\r\n",
      "channel.pyc                              \u001b[01;35moxygen.png\u001b[0m\r\n",
      "Decorators.ipynb                         \u001b[01;32moxygen.py\u001b[0m*\r\n",
      "equaility.txt                            \u001b[01;32mpickle_py.py\u001b[0m*\r\n",
      "equality.txt                             pickle_py.pyc\r\n",
      "\u001b[01;32mfind_chars_equlity.py\u001b[0m*                   \u001b[01;32mpy_main2.py\u001b[0m*\r\n",
      "\u001b[01;32mfind_chars.py\u001b[0m*                           \u001b[01;32mpy_main.py\u001b[0m*\r\n",
      "\u001b[01;35mfirst+second.png\u001b[0m                         random_char.txt\r\n",
      "Generators.ipynb                         README.md\r\n",
      "\u001b[01;32mgood.py\u001b[0m*                                 Regular Expressions (RegEx).ipynb\r\n",
      "High Level Functional Programming.ipynb  str() vs repr().ipynb\r\n",
      "\u001b[01;32mintegrity.py\u001b[0m*                            Things to learn:\r\n",
      "\u001b[01;32mlinkedlists.py\u001b[0m*                          \u001b[01;32mtranslator.py\u001b[0m*\r\n"
     ]
    }
   ],
   "source": [
    "ls # check what files we have here"
   ]
  },
  {
   "cell_type": "code",
   "execution_count": 10,
   "metadata": {
    "collapsed": false
   },
   "outputs": [
    {
     "name": "stdout",
     "output_type": "stream",
     "text": [
      "23 : # using map - map allows you to map a function to every item in a list. map returns a new list of\n",
      "24 : # items that are the items in the original list modified by the given func\n",
      "27 : # using filter - we can filter a list to get items that return true to a given test function\n",
      "52 : # the above is all nice and good . . .but LIST COMPREHENSION is where the real magic lies\n",
      "53 : print 'List Comprehension....'\n"
     ]
    }
   ],
   "source": [
    "lookup('list', 'map_reduce_fillter.py') # run the lookup function"
   ]
  },
  {
   "cell_type": "code",
   "execution_count": 13,
   "metadata": {
    "collapsed": true
   },
   "outputs": [],
   "source": [
    "# search and repalce\n",
    "# python implements s & r using a method called sub()\n",
    "# sub(patter, repl, string, max=0) max = 0 - default - inf\n",
    "# takes a pattern and string to replace it with and a string to search through, also how many replacements allowed"
   ]
  },
  {
   "cell_type": "code",
   "execution_count": 14,
   "metadata": {
    "collapsed": false
   },
   "outputs": [
    {
     "name": "stdout",
     "output_type": "stream",
     "text": [
      "['here', 'are', 'some', 'words']\n"
     ]
    }
   ],
   "source": [
    "# second tutorial .. . . .\n",
    "import re\n",
    "\n",
    "print re.split(r'\\s*', 'here are some words')  # '\\s*' find spaces chars, n times, split string - produce list\n",
    "# r'' interpret this string differently, '\\n' - typically newline, but now different"
   ]
  },
  {
   "cell_type": "code",
   "execution_count": 15,
   "metadata": {
    "collapsed": false
   },
   "outputs": [
    {
     "name": "stdout",
     "output_type": "stream",
     "text": [
      "['here', ' ', 'are', ' ', 'some', ' ', 'words']\n"
     ]
    }
   ],
   "source": [
    "print re.split(r'(\\s*)', 'here are some words') # added () - group and include, now includes the string we split by"
   ]
  },
  {
   "cell_type": "code",
   "execution_count": 17,
   "metadata": {
    "collapsed": false
   },
   "outputs": [
    {
     "name": "stdout",
     "output_type": "stream",
     "text": [
      "['here are ', 's', 'ome word', 's', '']\n"
     ]
    }
   ],
   "source": [
    "print re.split(r'(s*)', 'here are some words') # remove '\\' - now looks at s like a normal char"
   ]
  },
  {
   "cell_type": "code",
   "execution_count": 18,
   "metadata": {
    "collapsed": false
   },
   "outputs": [
    {
     "name": "stdout",
     "output_type": "stream",
     "text": [
      "['', 'h', 's', 'jk', 'lkj', 'h', 'o', 'hijg', '', 'goj', '', 'g', 'kg', 'lkrngjkl', 'gkjlnlk', '', 'nlSADSACFGFD']\n"
     ]
    }
   ],
   "source": [
    "print re.split(r'[a-f]', 'fhasdjkflkjfheofhijgfbgojbfgbkgblkrngjklbgkjlnlkcbnlSADSACFGFD')\n",
    "# [a-f] - a through f: abcdef - CaSe SENSITIVE (by default)"
   ]
  },
  {
   "cell_type": "code",
   "execution_count": 33,
   "metadata": {
    "collapsed": false
   },
   "outputs": [
    {
     "name": "stdout",
     "output_type": "stream",
     "text": [
      "['', 'h', 's', 'jk', 'lkj', 'h', 'o', 'hijg', '', 'goj', '', 'g', 'kg', 'lkrngjkl', 'gkjlnlk', '', 'nlS', '', 'S', '', '', 'G', '', '']\n"
     ]
    }
   ],
   "source": [
    "print re.split(r'[a-fA-F]', 'fhasdjkflkjfheofhijgfbgojbfgbkgblkrngjklbgkjlnlkcbnlSADSACFGFD')\n",
    "# re.I - case insensitive\n",
    "# re.M - if multilined, evalutate continuously"
   ]
  },
  {
   "cell_type": "code",
   "execution_count": 35,
   "metadata": {
    "collapsed": false
   },
   "outputs": [
    {
     "name": "stdout",
     "output_type": "stream",
     "text": [
      "['hjhjhjhjkhjkhjk', 'jlkjkljkjlk', '']\n"
     ]
    }
   ],
   "source": [
    "print re.split(r'[a-f][a-f]', 'hjhjhjhjkhjkhjkfajlkjkljkjlkcd') # split (a-f)(a-f) chars next to each other"
   ]
  },
  {
   "cell_type": "code",
   "execution_count": 36,
   "metadata": {
    "collapsed": false
   },
   "outputs": [
    {
     "name": "stdout",
     "output_type": "stream",
     "text": [
      "['3', '2', '4']\n"
     ]
    }
   ],
   "source": [
    "# find an address in a string\n",
    "# \\d - digits\n",
    "# \\D - non-digits\n",
    "# \\S - non-space\n",
    "# want to find instaces of patter --> use re.findall\n",
    "print re.findall(r'\\d', 'ocinwa324 main st.asdasd') # look for chars, number, space, name, random chars"
   ]
  },
  {
   "cell_type": "code",
   "execution_count": 38,
   "metadata": {
    "collapsed": false
   },
   "outputs": [
    {
     "name": "stdout",
     "output_type": "stream",
     "text": [
      "['324']\n"
     ]
    }
   ],
   "source": [
    "# as seen above, it finds all the digits and returns them separately, want to specify quantities of chars to look for\n",
    "# * look for 0 or more instances\n",
    "# + look for 1 or more instances\n",
    "# ? look for 0 or 1 (only)\n",
    "# {min, max} look for exactnumber in range\n",
    "# {5} look for five instances\n",
    "# quantity specifier after metastring\n",
    "print re.findall(r'\\d{1,5}','ocinwa324 main st.asdasd')  # now returns between 1 and 5 digits as a single string"
   ]
  },
  {
   "cell_type": "code",
   "execution_count": 41,
   "metadata": {
    "collapsed": false
   },
   "outputs": [
    {
     "name": "stdout",
     "output_type": "stream",
     "text": [
      "['324 main st.']\n"
     ]
    }
   ],
   "source": [
    "# '\\w' - alphanumeric\n",
    "print re.findall(r'\\d{1,5}\\s\\w+\\s\\w+\\.','ocinwa324 main st.asdasd')  # note we want to stop at '.', but need to escape it"
   ]
  },
  {
   "cell_type": "code",
   "execution_count": 57,
   "metadata": {
    "collapsed": false
   },
   "outputs": [
    {
     "name": "stdout",
     "output_type": "stream",
     "text": [
      "Searching: google\n",
      "Google\n",
      "Searching: yahoo\n",
      "Yahoo\n",
      "Searching: cnn\n",
      "CNN - Breaking News, U.S., World, Weather, Entertainment & Video News\n",
      "Searching: msn\n",
      "MSN South Africa | Latest News, Live Scores, Hotmail and Outlook\n"
     ]
    }
   ],
   "source": [
    "# practical example\n",
    "# parsing web pages --> intro to web scraping\n",
    "import re, urllib  # urllib - grab websites\n",
    "try:\n",
    "    import urllib.request\n",
    "except:\n",
    "    pass\n",
    "\n",
    "sites = 'google yahoo cnn msn'.split()\n",
    "pat = re.compile(r'<title>+.*</title>+', re.I|re.M) # compile pattern here to save resources - includes <title> and </title>\n",
    "pat = re.compile(r'<title>+(.*)</title>+', re.I|re.M) # does not include <title> and </title>\n",
    "for site in sites:\n",
    "    print 'Searching: {}'.format(site)\n",
    "    try:\n",
    "        u = urllib.urlopen('http://{}.com'.format(site))\n",
    "    except:\n",
    "        pass\n",
    "    text = u.read()\n",
    "    #title = re.findall(r'<title>+.*</title>+',str(text), re.I|re.M) # works but inefficient\n",
    "    title = re.findall(pat, str(text))\n",
    "    \n",
    "    print title[0]"
   ]
  }
 ],
 "metadata": {
  "kernelspec": {
   "display_name": "Python 2",
   "language": "python",
   "name": "python2"
  },
  "language_info": {
   "codemirror_mode": {
    "name": "ipython",
    "version": 2
   },
   "file_extension": ".py",
   "mimetype": "text/x-python",
   "name": "python",
   "nbconvert_exporter": "python",
   "pygments_lexer": "ipython2",
   "version": "2.7.10"
  }
 },
 "nbformat": 4,
 "nbformat_minor": 0
}
