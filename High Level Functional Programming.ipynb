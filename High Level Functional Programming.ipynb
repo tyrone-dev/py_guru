{
 "cells": [
  {
   "cell_type": "markdown",
   "metadata": {},
   "source": [
    "# Functional Programming"
   ]
  },
  {
   "cell_type": "markdown",
   "metadata": {},
   "source": [
    "Functions that take functions as values\n",
    "\n",
    "There are various programming paradigms:\n",
    "* structured/procdural - Functions, loops, conditionals\n",
    "* OOP - classes, objects, methodds\n",
    "* Functional Programming - ?functions?\n",
    "* Logic Programming\n",
    "\n",
    "Pradigms - different ways to think about programming and solve problems\n",
    "\n",
    "Functional Programming - Decorators, Comprehensions, Generators\n",
    "In python:\n",
    "Functions are first class values:\n",
    "* functions can take functions as arguments\n",
    "* functions can return functions\n",
    "* Functional programming - using functions as values (or as data) - move away from the notion that functions are separte"
   ]
  },
  {
   "cell_type": "code",
   "execution_count": 2,
   "metadata": {
    "collapsed": false
   },
   "outputs": [
    {
     "name": "stdout",
     "output_type": "stream",
     "text": [
      "30\n",
      "79\n"
     ]
    }
   ],
   "source": [
    "# define some functions:\n",
    "# note calc takes a fucntion as an argument\n",
    "def calc(f, x, y):\n",
    "    return f(x,y)  # returns the result of calling f using arguments x, y\n",
    "\n",
    "def add(x, y):\n",
    "    return x + y\n",
    "\n",
    "def sub(x, y):\n",
    "    return x - y\n",
    "\n",
    "# using these functions:\n",
    "print calc(add, 10, 20)\n",
    "print calc(sub, 100, 21)"
   ]
  },
  {
   "cell_type": "markdown",
   "metadata": {},
   "source": [
    "## Lambda Functions"
   ]
  },
  {
   "cell_type": "code",
   "execution_count": 5,
   "metadata": {
    "collapsed": false
   },
   "outputs": [
    {
     "name": "stdout",
     "output_type": "stream",
     "text": [
      "30\n",
      "99\n"
     ]
    }
   ],
   "source": [
    "# lambda fucntions are anonymous functions - these functions have no names\n",
    "# body is lmited to one expression - no body with multiple statements, returns result of given expressions\n",
    "\n",
    "\n",
    "# calc above requires the first input to be a function, lambda can be this function\n",
    "print calc(lambda x, y: x+y, 10, 20) # identical to passing in add function as defined above\n",
    "print calc(lambda x, y: x-y, 100, 1) # identical to passing in sub function as defined above\n",
    "\n",
    "# lambda generally used if function is small and not needed elsewhere"
   ]
  },
  {
   "cell_type": "code",
   "execution_count": 6,
   "metadata": {
    "collapsed": false
   },
   "outputs": [
    {
     "data": {
      "text/plain": [
       "[2, 3, 4]"
      ]
     },
     "execution_count": 6,
     "metadata": {},
     "output_type": "execute_result"
    }
   ],
   "source": [
    "# taking procedural code and making it functional\n",
    "\n",
    "# procedural code here\n",
    "def incr(x):\n",
    "    return x + 1\n",
    "\n",
    "def increment_each(elements):\n",
    "    results = []\n",
    "    for elem in elements:\n",
    "        results.append(incr(elem))\n",
    "    return results\n",
    "increment_each([1,2,3])"
   ]
  },
  {
   "cell_type": "code",
   "execution_count": 9,
   "metadata": {
    "collapsed": false
   },
   "outputs": [
    {
     "name": "stdout",
     "output_type": "stream",
     "text": [
      "[2, 3, 4]\n",
      "[2, 3, 4]\n"
     ]
    }
   ],
   "source": [
    "# functional version of the code above\n",
    "# can use built-in map map(func, iterable) - calls function on each iterable - packs into list, return list\n",
    "print map(incr, [1,2,3])\n",
    "\n",
    "# or even simpler\n",
    "print map(lambda x: x + 1, [1,2,3])"
   ]
  },
  {
   "cell_type": "markdown",
   "metadata": {},
   "source": [
    "A good place to use functional programming is in place of a loop when you expect to perform some process on each item in an iterable"
   ]
  },
  {
   "cell_type": "code",
   "execution_count": 12,
   "metadata": {
    "collapsed": false
   },
   "outputs": [
    {
     "name": "stdout",
     "output_type": "stream",
     "text": [
      "[3, 3, 2]\n",
      "[3, 3, 2]\n"
     ]
    }
   ],
   "source": [
    "elements = ['212', '312', '31']\n",
    "# another example\n",
    "results = []\n",
    "for elem in elements:\n",
    "    results.append(len(elem))\n",
    "print results   \n",
    "# or FP:\n",
    "print map(len, elements) # using FP - no loop, no intermediate variables, no new lists needed to be created, no append"
   ]
  },
  {
   "cell_type": "code",
   "execution_count": 13,
   "metadata": {
    "collapsed": true
   },
   "outputs": [],
   "source": [
    "# a map implementaion\n",
    "def my_map(func, elements):\n",
    "    results = []\n",
    "    for elem in elements:\n",
    "        results.append(func(elem))\n",
    "    return results"
   ]
  },
  {
   "cell_type": "code",
   "execution_count": 15,
   "metadata": {
    "collapsed": false
   },
   "outputs": [
    {
     "name": "stdout",
     "output_type": "stream",
     "text": [
      "[2, 4, 6, 8, 10]\n",
      "6\n"
     ]
    }
   ],
   "source": [
    "# map - returns new sequence where values are the result of appyling the given function to each element of a sequence\n",
    "# filter - returns new sequence where values are taken from the given sequence if they return True when passed\n",
    "# to a given function\n",
    "print filter(lambda x: x%2==0, [1,2,3,4,5,6,7,8,9,10])\n",
    "\n",
    "# reduce - accumulate and return a single result, given a sequence and passing each value to a function along\n",
    "# with the current result\n",
    "\n",
    "print reduce(lambda accum, current: accum+current, [1,2,3],0) # the last arg is the starting value"
   ]
  },
  {
   "cell_type": "code",
   "execution_count": null,
   "metadata": {
    "collapsed": true
   },
   "outputs": [],
   "source": []
  }
 ],
 "metadata": {
  "kernelspec": {
   "display_name": "Python 2",
   "language": "python",
   "name": "python2"
  },
  "language_info": {
   "codemirror_mode": {
    "name": "ipython",
    "version": 2
   },
   "file_extension": ".py",
   "mimetype": "text/x-python",
   "name": "python",
   "nbconvert_exporter": "python",
   "pygments_lexer": "ipython2",
   "version": "2.7.10"
  }
 },
 "nbformat": 4,
 "nbformat_minor": 0
}
